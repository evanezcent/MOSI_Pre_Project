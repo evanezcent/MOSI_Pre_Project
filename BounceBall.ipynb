{
 "cells": [
  {
   "cell_type": "code",
   "execution_count": 1,
   "metadata": {},
   "outputs": [],
   "source": [
    "import pandas as pd\n",
    "import numpy as np\n",
    "from math import sin, cos, tan, pi, sqrt\n",
    "import scipy as sp\n",
    "import matplotlib.pyplot as plt"
   ]
  },
  {
   "cell_type": "code",
   "execution_count": 4,
   "metadata": {},
   "outputs": [
    {
     "name": "stdout",
     "output_type": "stream",
     "text": [
      "stopped bouncing at t=7.762\n",
      "\n"
     ]
    },
    {
     "data": {
      "text/plain": [
       "Text(0.5, 1.0, 'bouncing ball')"
      ]
     },
     "execution_count": 4,
     "metadata": {},
     "output_type": "execute_result"
    },
    {
     "data": {
      "image/png": "[encoded data removed]",
      "text/plain": [
       "<Figure size 432x288 with 1 Axes>"
      ]
     },
     "metadata": {
      "needs_background": "light"
     },
     "output_type": "display_data"
    }
   ],
   "source": [
    "\n",
    "h0 = 5         # m\n",
    "v = 0          # m/s, current velocity\n",
    "g = 10         # m/s/s\n",
    "t = 0          # starting time\n",
    "dt = 0.001     # time step\n",
    "rho = 0.75     # coefficient of restitution\n",
    "tau = 0.10     # contact time for bounce\n",
    "hmax = h0      # keep track of the maximum height\n",
    "h = h0\n",
    "hstop = 0.01   # stop when bounce is less than 1 cm\n",
    "freefall = True # state: freefall or in contact\n",
    "\n",
    "t_last = -sqrt(2*h0/g) # time we would have launched to get to h0 at t=0\n",
    "vmax = sqrt(2 * hmax * g) #velocity maximum for freefall ball [FREEFALL]\n",
    "H = []\n",
    "T = []\n",
    "\n",
    "while(hmax > hstop):\n",
    "  if(freefall):\n",
    "    hnew = h + v*dt - 0.5*g*dt*dt #H after bounce \n",
    "    if(hnew<0):\n",
    "      t = t_last + 2*sqrt(2*hmax/g) # t every bounce [PARABOLA {freefall} ]\n",
    "      freefall = False\n",
    "      t_last = t + tau\n",
    "      h = 0\n",
    "    else:\n",
    "      t = t + dt\n",
    "      v = v - g*dt #V every time step [ GLBB ]\n",
    "      h = hnew\n",
    "  else:\n",
    "    t = t + tau\n",
    "    vmax = vmax * rho\n",
    "    v = vmax\n",
    "    freefall = True\n",
    "    h = 0\n",
    "  hmax = 0.5*vmax*vmax/g #hmax every time step [ PARABOLA ] tetha = 90\n",
    "  H.append(h)\n",
    "  T.append(t)\n",
    "\n",
    "print(\"stopped bouncing at t=%.3f\\n\"%(t))\n",
    "\n",
    "plt.figure()\n",
    "plt.plot(T, H)\n",
    "plt.xlabel('time')\n",
    "plt.ylabel('height')\n",
    "plt.title('bouncing ball')\n"
   ]
  }
 ],
 "metadata": {
  "kernelspec": {
   "display_name": "Python 3",
   "language": "python",
   "name": "python3"
  },
  "language_info": {
   "codemirror_mode": {
    "name": "ipython",
    "version": 3
   },
   "file_extension": ".py",
   "mimetype": "text/x-python",
   "name": "python",
   "nbconvert_exporter": "python",
   "pygments_lexer": "ipython3",
   "version": "3.7.1"
  }
 },
 "nbformat": 4,
 "nbformat_minor": 2
}
